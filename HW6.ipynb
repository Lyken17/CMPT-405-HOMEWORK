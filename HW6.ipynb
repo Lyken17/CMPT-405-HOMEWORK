{
 "cells": [
  {
   "cell_type": "markdown",
   "metadata": {},
   "source": [
    "# Problem 1.\n",
    "Let DOUBLESAT = {f |f is a boolean formula and f has at least two satisfying assignments }. Prove that DOUBLESET is NP-Complete."
   ]
  },
  {
   "cell_type": "markdown",
   "metadata": {
    "collapsed": true
   },
   "source": [
    "1. Show DOUBLESET is NP : Given a boolean formula, it's easy to verify it in polynomial time.\n",
    "2. Reduct SAT to DOUBLESAT : SAT $S = \\{f | \\forall{f} \\in SAT\\}$ $\\Longrightarrow\t$ $S' = \\{f \\cup (X \\cap \\bar{X})|\\forall{f} \\in S\\}$\n",
    "3. Obviously, this transform is in polynomial time.\n",
    "4. If there is an assignemnt $A$ which satisfies $S$, there must be two assigments $A + (X=0)$, $A + (X=1)$ satisfying S', DOUBLESET. Hence, $ SAT <_{p} DOUBLESET $, DOUBLESET is NP-Complete."
   ]
  },
  {
   "cell_type": "markdown",
   "metadata": {},
   "source": [
    "# Problem 2.\n",
    "Show the language HALF-CLIQUE = {G|G is an undirected graph with n nodes which has a complete subgraph of n/2 nodes} is NP complete."
   ]
  },
  {
   "cell_type": "markdown",
   "metadata": {
    "collapsed": true
   },
   "source": [
    "1. Show HALF-CLIQUE is NP : Given a vertice set of size $\\frac{N}{2}$ , verifying whether it is complete subgraph takes $O(\\frac{N}{2}^2) = O(N^2)$, in polynomial.\n",
    "2. Reduct CLIQUE to HALF-CLIQUE : let $<G,k>$ be an instance of CLIQUE, discuss two possible situations\n",
    "    * If $k \\geq \\frac{|G|}{2} $, then add $j = 2k - |G|$ vertice to G without adding any edges, altered graph G'' has a HALF-CLIQUE if and only if G has a CLIQUE of size K.\n",
    "    * If $k < \\frac{|G|}{2} $, then add $m = |G| - 2k$ vertice which are completely connected to G and each other. If G has a CLIQUE of size $k$, altered graph G\" will has CLIQUE of size $k + |G| - 2k = |G| - k$, since G\" totally has $|G| + |G| - 2k$ vertice, G\" has a HALF-CLIQUE.\n",
    "3. This transform takes $j = 2k - |G|$, $m = |G| - 2k$, $O(m^2)$ time, in polynomial.\n",
    "4. Hence, $ CLIQUE <_{p} HALF-CLIQUE $, HALF-CLIQUE is NP-Complete."
   ]
  },
  {
   "cell_type": "markdown",
   "metadata": {},
   "source": [
    "# Problem 3.\n",
    "Consider the Set-Partition problem, in which you are given as input a set S of integer numbers. The question is whether the numbers can be partitioned into two sets $A$ and $\\bar{A}=S−A$ such that $\\sum_{x∈Ax}= \\sum_{x∈\\bar{A}x}$. Show that Set-Partition is NP-complete."
   ]
  },
  {
   "cell_type": "code",
   "execution_count": null,
   "metadata": {
    "collapsed": true
   },
   "outputs": [],
   "source": []
  },
  {
   "cell_type": "markdown",
   "metadata": {},
   "source": [
    "# Problem 4.\n",
    "Show that the hamiltonian-path problem (note the “path” rather than “cycle”) is $NP$- complete."
   ]
  },
  {
   "cell_type": "code",
   "execution_count": null,
   "metadata": {
    "collapsed": true
   },
   "outputs": [],
   "source": []
  }
 ],
 "metadata": {
  "kernelspec": {
   "display_name": "Python 3",
   "language": "python",
   "name": "python3"
  },
  "language_info": {
   "codemirror_mode": {
    "name": "ipython",
    "version": 3
   },
   "file_extension": ".py",
   "mimetype": "text/x-python",
   "name": "python",
   "nbconvert_exporter": "python",
   "pygments_lexer": "ipython3",
   "version": "3.4.3"
  }
 },
 "nbformat": 4,
 "nbformat_minor": 0
}
